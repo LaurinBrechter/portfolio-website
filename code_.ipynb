{
 "cells": [
  {
   "cell_type": "code",
   "execution_count": 1,
   "metadata": {},
   "outputs": [],
   "source": [
    "import json\n",
    "import numpy as np\n",
    "from sklearn.decomposition import PCA\n",
    "from sklearn.manifold import TSNE\n",
    "import seaborn as sns\n",
    "from feedparser import parse "
   ]
  },
  {
   "cell_type": "code",
   "execution_count": 2,
   "metadata": {},
   "outputs": [
    {
     "name": "stdout",
     "output_type": "stream",
     "text": [
      "dict_keys(['title', 'title_detail', 'links', 'link', 'id', 'guidislink', 'tags', 'authors', 'author', 'author_detail', 'published', 'published_parsed', 'updated', 'updated_parsed', 'content', 'summary'])\n"
     ]
    }
   ],
   "source": [
    "def get_medium_blogs():\n",
    "    feed = parse('https://medium.com/feed/@brechterlaurin')\n",
    "    feeds_parsed = []\n",
    "\n",
    "    for i, entry in enumerate(feed['entries']):\n",
    "        feeds_parsed.append({\n",
    "            'title': entry['title'],\n",
    "            # 'description': entry['summary'],\n",
    "            'link': entry['link'],\n",
    "            'date': entry['published'],\n",
    "            'tags': [tag['term'] for tag in entry['tags']],\n",
    "            # 'data': {\n",
    "            #     'id': i,\n",
    "            #     'label': entry['title'],\n",
    "            #     'href': entry['link'],\n",
    "            # }\n",
    "        })\n",
    "\n",
    "    print(entry.keys())\n",
    "\n",
    "    json.dump(feeds_parsed, open('/home/laurinbrechter/Documents/Code/portfolio-website/src/app/[lang]/blog/medium_blogs.json', 'w'))\n",
    "\n",
    "    return feeds_parsed\n",
    "\n",
    "medium_blogs = get_medium_blogs()"
   ]
  },
  {
   "cell_type": "code",
   "execution_count": 3,
   "metadata": {},
   "outputs": [],
   "source": [
    "blog_json = json.loads(open('/home/laurinbrechter/Documents/Code/portfolio-website/src/app/[lang]/blog/own_blogs.json').read())"
   ]
  },
  {
   "cell_type": "code",
   "execution_count": 6,
   "metadata": {},
   "outputs": [],
   "source": [
    "all_blogs = blog_json + medium_blogs\n",
    "for i in range(len(all_blogs)):\n",
    "    all_blogs[i]['id'] = i"
   ]
  },
  {
   "cell_type": "code",
   "execution_count": 5,
   "metadata": {},
   "outputs": [],
   "source": [
    "json.dump(all_blogs, open('/home/laurinbrechter/Documents/Code/portfolio-website/src/app/[lang]/blog/allBlogs.json', 'w'))"
   ]
  },
  {
   "cell_type": "code",
   "execution_count": 8,
   "metadata": {},
   "outputs": [],
   "source": [
    "from openai import OpenAI\n",
    "client = OpenAI(api_key=OPENAI_API_KEY)\n",
    "\n",
    "response = client.embeddings.create(\n",
    "    input=[b['title'] + ' '.join(b['tags']) for b in all_blogs],\n",
    "    model=\"text-embedding-3-small\"\n",
    ")\n",
    "\n",
    "r = response"
   ]
  },
  {
   "cell_type": "code",
   "execution_count": 9,
   "metadata": {},
   "outputs": [],
   "source": [
    "embeddings = np.array([e.embedding for e in r.data])"
   ]
  },
  {
   "cell_type": "code",
   "execution_count": 10,
   "metadata": {},
   "outputs": [],
   "source": [
    "pairwise_dist = np.linalg.norm(embeddings - embeddings[:, None], axis=-1)"
   ]
  },
  {
   "cell_type": "code",
   "execution_count": null,
   "metadata": {},
   "outputs": [],
   "source": [
    "sns.heatmap(pairwise_dist)"
   ]
  },
  {
   "cell_type": "code",
   "execution_count": 12,
   "metadata": {},
   "outputs": [],
   "source": [
    "import networkx as nx\n",
    "import matplotlib.pyplot as plt"
   ]
  },
  {
   "cell_type": "code",
   "execution_count": null,
   "metadata": {},
   "outputs": [],
   "source": [
    "g = nx.relaxed_caveman_graph(10, 5, 0.2)\n",
    "fig, ax = plt.subplots(1, 1, figsize=(15, 10))\n",
    "pos = nx.spring_layout(g)\n",
    "nx.draw_networkx_nodes(g, pos=pos, ax=ax, node_color='black')\n",
    "nx.draw_networkx_edges(g, pos=pos, ax=ax)\n"
   ]
  },
  {
   "cell_type": "code",
   "execution_count": 14,
   "metadata": {},
   "outputs": [],
   "source": [
    "k_nearest = np.argsort(pairwise_dist, axis=1)[:,1:2]\n",
    "titles = [b['title'] for b in all_blogs]\n",
    "nearest_dist = np.array([pairwise_dist[i, k_nearest[i]] for i in range(len(all_blogs))])\n",
    "links = [b.get('link', '') for b in all_blogs]"
   ]
  },
  {
   "cell_type": "code",
   "execution_count": 15,
   "metadata": {},
   "outputs": [],
   "source": [
    "g = nx.Graph()\n",
    "for i, neighbors in enumerate(k_nearest):\n",
    "    for neighbor in neighbors:\n",
    "        g.add_edge(i, neighbor)"
   ]
  },
  {
   "cell_type": "code",
   "execution_count": null,
   "metadata": {},
   "outputs": [],
   "source": [
    "layout = nx.spring_layout(g)\n",
    "nx.draw(g, pos=layout, node_color='black')\n",
    "nx.draw_networkx_labels(g, pos=layout, labels={i: titles[i] for i in range(len(titles))})"
   ]
  },
  {
   "cell_type": "code",
   "execution_count": 17,
   "metadata": {},
   "outputs": [],
   "source": [
    "# put it in cytoscape format\n",
    "\n",
    "nodes = [{'data': {\n",
    "    'id': str(i), \n",
    "    'label': titles[i], \n",
    "    'href': links[i],\n",
    "    'tags': all_blogs[i]['tags']\n",
    "    }} for i in range(len(titles))]\n",
    "json.dump(nodes, open('/home/laurinbrechter/Documents/Code/portfolio-website/src/app/[lang]/blog/graphNodes.json', 'w'))"
   ]
  },
  {
   "cell_type": "code",
   "execution_count": 18,
   "metadata": {},
   "outputs": [],
   "source": [
    "edges = []\n",
    "\n",
    "# add distance to edges\n",
    "for i, neighbors in enumerate(k_nearest):\n",
    "    for neighbor in neighbors:\n",
    "        edges.append({'data': {'source': str(i), 'target': str(neighbor), 'distance': int(list(nearest_dist[i])[0]*3)}})\n",
    "json.dump(edges, open('/home/laurinbrechter/Documents/Code/portfolio-website/src/app/[lang]/blog/graphEdges.json', 'w'))"
   ]
  },
  {
   "cell_type": "code",
   "execution_count": 23,
   "metadata": {},
   "outputs": [],
   "source": [
    "elements = nodes + edges"
   ]
  },
  {
   "cell_type": "code",
   "execution_count": 24,
   "metadata": {},
   "outputs": [],
   "source": [
    "# save as json\n",
    "with open('/home/laurinbrechter/Documents/Code/portfolio-website/src/app/[lang]/blog/graphData.json', 'w') as f:\n",
    "    json.dump(elements, f)"
   ]
  },
  {
   "cell_type": "code",
   "execution_count": null,
   "metadata": {},
   "outputs": [],
   "source": []
  }
 ],
 "metadata": {
  "kernelspec": {
   "display_name": "Python 3",
   "language": "python",
   "name": "python3"
  },
  "language_info": {
   "codemirror_mode": {
    "name": "ipython",
    "version": 3
   },
   "file_extension": ".py",
   "mimetype": "text/x-python",
   "name": "python",
   "nbconvert_exporter": "python",
   "pygments_lexer": "ipython3",
   "version": "3.11.4"
  }
 },
 "nbformat": 4,
 "nbformat_minor": 2
}
